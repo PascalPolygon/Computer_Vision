{
 "cells": [
  {
   "cell_type": "code",
   "execution_count": 1,
   "metadata": {},
   "outputs": [],
   "source": [
    "import numpy as np\n",
    "import matplotlib.pyplot as plt\n",
    "from mpl_toolkits.mplot3d import Axes3D\n",
    "from mpl_toolkits.mplot3d.art3d import Poly3DCollection\n"
   ]
  },
  {
   "cell_type": "code",
   "execution_count": 191,
   "metadata": {},
   "outputs": [
    {
     "name": "stdout",
     "output_type": "stream",
     "text": [
      "(3, 20)\n"
     ]
    }
   ],
   "source": [
    "# Cube\n",
    "W = np.array([[0, 0, 200], [50, 0, 200], [50, 50, 200], [0, 50, 200], [\n",
    "             0, 0, 250], [50, 0, 250], [50, 50, 250], [0, 50, 250], [25, 0, 200], [0,0,225], [50,0,225], [25, 0, 250], [25, 50, 250], [50, 25, 250], [0,25,250], [0,50,225], [0,25,200], [25, 50, 200], [50, 25, 200], [50,50,225]])\n",
    "print(W.T.shape)\n",
    "C = np.array([[0, 0, 200], [50, 0, 200], [50, 50, 200], [0, 50, 200], [\n",
    "             0, 0, 250], [50, 0, 250], [50, 50, 250], [0, 50, 250]])\n",
    "             \n",
    "princPtn = np.array([256, 256]) # Principal point\n",
    "p = np.array([200, 200]) # Focal point\n",
    "s = 0 # Skew\n",
    "t = np.radians(35) #Theta (Rotation angle)\n",
    "d = np.array([200, 0, 0]) # Translation vector\n",
    "\n",
    "def sin(x): return np.sin(x)\n",
    "def cos(x): return np.cos(x)\n",
    "\n",
    "\n",
    "Int = np.array([[p[0], s, princPtn[0], 0], [\n",
    "    0, p[1], princPtn[1], 0], [0, 0, 1, 0]]) # Intrinsic parameters\n",
    "O = np.array([[cos(t), 0, -sin(t)], [0, 1, 0], # Rotation matrix\n",
    "              [sin(t), 0, cos(t)], [0, 0, 0]])\n",
    "T = np.array([[d[0]], [d[1]], [d[2]], [1]]) #Translation matrix\n",
    "\n",
    "#Plotting function\n",
    "def plotProj(proj, title='2D proj'):\n",
    "    proj = np.hstack((proj, np.zeros((proj.shape[0], 1))))\n",
    "    print(proj.shape)\n",
    "\n",
    "    x_max = np.amax(proj[:, 0])\n",
    "    x_min = np.amin(proj[:, 0])\n",
    "\n",
    "    y_max = np.amax(proj[:, 1])\n",
    "    y_min = np.amin(proj[:, 1])\n",
    "\n",
    "    fig = plt.figure()\n",
    "    ax = fig.add_subplot(111, projection='3d')\n",
    "\n",
    "    ax.scatter3D(proj[:, 0], proj[:, 1], proj[:, 2])\n",
    "    ax.set_xlabel('X')\n",
    "    ax.set_ylabel('Y')\n",
    "    ax.set_zlabel('Z')\n",
    "\n",
    "    padding = 25\n",
    "    # ax.set_xlim(400, 800)\n",
    "    # ax.set_xlim(200, 500)\n",
    "    ax.set_xlim(x_min-padding, x_max+padding)\n",
    "    ax.set_ylim(y_min-padding, y_max+padding)\n",
    "    # ax.set_xlim(-1, 1)\n",
    "    # ax.set_ylim(-1, 1)\n",
    "    verts = [[proj[0], proj[1], proj[2], proj[3]], [proj[4], proj[5], proj[6], proj[7]], [\n",
    "        proj[0], proj[1], proj[5], proj[4]], [proj[3], proj[2], proj[6], proj[7]]]\n",
    "    #[X[1],X[2],X[6],X[5]], [X[1],X[2],X[5],X[7]]]\n",
    "\n",
    "    # plot sides\n",
    "    ax.add_collection3d(Poly3DCollection(verts, facecolors='w',linewidths=1, edgecolors='k', alpha=.25))\n",
    "    ax.set_title(title)\n",
    "    ax.view_init(90, 90)\n"
   ]
  },
  {
   "cell_type": "markdown",
   "metadata": {},
   "source": [
    "Ground truth projection"
   ]
  },
  {
   "cell_type": "code",
   "execution_count": 199,
   "metadata": {},
   "outputs": [
    {
     "name": "stdout",
     "output_type": "stream",
     "text": [
      "(20, 3)\n"
     ]
    },
    {
     "data": {
      "image/png": "[encoded data removed]",
      "text/plain": [
       "<Figure size 432x288 with 1 Axes>"
      ]
     },
     "metadata": {
      "needs_background": "light"
     },
     "output_type": "display_data"
    }
   ],
   "source": [
    "#Pinhole model\n",
    "def pinHole(W, A, O, T):\n",
    "    motionMat = np.hstack((O, T))\n",
    "    X = np.zeros((W.shape[0], W.shape[1]))\n",
    "    i = 0\n",
    "    for w in W:\n",
    "        w_ = np.vstack((np.reshape(w, (3, 1)), [1]))\n",
    "        x_ = A @ motionMat @ w_\n",
    "        x_ = x_/x_[2] \n",
    "        X[i] = x_.T\n",
    "        i += 1\n",
    "    return X\n",
    "    # return X[:2].reshape((2))\n",
    "\n",
    "X = pinHole(W, Int, O, T)\n",
    "# print(X)\n",
    "plotProj(X[:, :2])\n",
    "\n",
    "\n"
   ]
  },
  {
   "cell_type": "markdown",
   "metadata": {},
   "source": [
    "Estimating extrinsic parameters"
   ]
  },
  {
   "cell_type": "code",
   "execution_count": 201,
   "metadata": {},
   "outputs": [
    {
     "name": "stdout",
     "output_type": "stream",
     "text": [
      "True rotation:\n",
      " [[0.819 0.000 -0.574]\n",
      " [0.000 1.000 0.000]\n",
      " [0.574 0.000 0.819]]\n",
      "Estimated rotation:\n",
      " [[0.819 -0.000 -0.574]\n",
      " [0.000 1.000 -0.000]\n",
      " [0.574 0.000 0.819]]\n",
      "True translation:\n",
      " [200   0   0]\n",
      "Estimated translation:\n",
      " [198.105 0.000 -0.000]\n"
     ]
    }
   ],
   "source": [
    "X_ = np.linalg.inv(Int[:, :3]) @ X.T # Normalized image coordinates\n",
    "\n",
    "def makeAmatrix(W, X_):\n",
    "    A = np.zeros((W.shape[0]*2, 12))\n",
    "    i = 0\n",
    "    for x_, w in zip(X_, W):\n",
    "        A[i] = np.array([w[0], w[1], w[2], 1, 0, 0, 0, 0, -w[0]\n",
    "                         * x_[0], -w[1]*x_[0], -w[2]*x_[0], -x_[0]])\n",
    "        A[i+1] = np.array([0, 0, 0, 0, w[0], w[1], w[2], 1, -w[0]\n",
    "                         * x_[1], -w[1]*x_[1], -w[2]*x_[1], -x_[1]])\n",
    "        i+= 2\n",
    "    return A\n",
    "\n",
    "\n",
    "A = makeAmatrix(W, X_.T) #A matrix of eq 14.30\n",
    "\n",
    "#Perform SVD\n",
    "u, s, vh = np.linalg.svd(A)\n",
    "\n",
    "V = vh.T\n",
    "b = V[:, -1] #Take last column as explained in the book\n",
    "\n",
    "Om = np.array([[b[0], b[1], b[2]],\n",
    "               [b[4], b[5], b[6]],\n",
    "               [b[8], b[9], b[10]]])\n",
    "\n",
    "tau = np.array([b[3], b[7], b[11]])\n",
    "\n",
    "u, s, vh = np.linalg.svd(Om)\n",
    "Om_ = u @ vh #Scaled rotation matrix\n",
    "\n",
    "tau_ = 1/9*np.sum(Om_/Om)*tau #tau hat from eq 14.31\n",
    "\n",
    "Om_ *= -1\n",
    "tau_ *= -1\n",
    "\n",
    "rot = np.array([[cos(t), 0, -sin(t)], [0, 1, 0],  # Original Rotation matrix\n",
    "              [sin(t), 0, cos(t)]])\n",
    "\n",
    "np.set_printoptions(formatter={'float': lambda x: \"{0:0.3f}\".format(x)})\n",
    "print(f'True rotation:\\n {rot}')\n",
    "print(f'Estimated rotation:\\n {Om_}')\n",
    "print(f'True translation:\\n {d}')\n",
    "print(f'Estimated translation:\\n {tau_}')\n"
   ]
  },
  {
   "cell_type": "markdown",
   "metadata": {},
   "source": [
    "Projecting estimated image coordinates"
   ]
  },
  {
   "cell_type": "code",
   "execution_count": 203,
   "metadata": {},
   "outputs": [],
   "source": [
    "O_ = np.vstack((Om_, np.array([0, 0, 0])))  # Estimated Rotation matrix\n",
    "T_ = np.array([[tau_[0]], [tau_[1]], [tau_[2]], [1]])  # Estimated Translation matrix\n",
    "\n",
    "X_ = pinHole(W, Int, O_, T_)\n",
    "\n"
   ]
  },
  {
   "cell_type": "markdown",
   "metadata": {},
   "source": [
    "Comparison plots"
   ]
  },
  {
   "cell_type": "code",
   "execution_count": 211,
   "metadata": {},
   "outputs": [
    {
     "name": "stderr",
     "output_type": "stream",
     "text": [
      "No handles with labels found to put in legend.\n"
     ]
    },
    {
     "name": "stdout",
     "output_type": "stream",
     "text": [
      "(20, 3)\n"
     ]
    },
    {
     "data": {
      "image/png": "[encoded data removed]",
      "text/plain": [
       "<Figure size 432x288 with 1 Axes>"
      ]
     },
     "metadata": {
      "needs_background": "light"
     },
     "output_type": "display_data"
    }
   ],
   "source": [
    "# plotReproj(X[:,:2], X_[:, :2])\n",
    "# plotProj(X[:, :2], 'True image coordinates')\n",
    "# plt.show()\n",
    "# plotProj(X_[:, :2], 'Estimated image coordinates')\n",
    "\n",
    "def plotReProj(proj, proj_, title='2D proj'):\n",
    "    proj = np.hstack((proj, np.zeros((proj.shape[0], 1))))\n",
    "    print(proj.shape)\n",
    "\n",
    "    proj_ = np.hstack((proj_, np.zeros((proj_.shape[0], 1))))\n",
    "\n",
    "    x_max = np.amax(proj[:, 0])\n",
    "    x_min = np.amin(proj[:, 0])\n",
    "\n",
    "    y_max = np.amax(proj[:, 1])\n",
    "    y_min = np.amin(proj[:, 1])\n",
    "\n",
    "    fig = plt.figure()\n",
    "    ax = fig.add_subplot(111, projection='3d')\n",
    "\n",
    "    ax.scatter3D(proj[:, 0], proj[:, 1], proj[:, 2])\n",
    "    ax.set_xlabel('X')\n",
    "    ax.set_ylabel('Y')\n",
    "    ax.set_zlabel('Z')\n",
    "\n",
    "    padding = 25\n",
    "    # ax.set_xlim(400, 800)\n",
    "    # ax.set_xlim(200, 500)\n",
    "    ax.set_xlim(x_min-padding, x_max+padding)\n",
    "    ax.set_ylim(y_min-padding, y_max+padding)\n",
    "    # ax.set_xlim(-1, 1)\n",
    "    # ax.set_ylim(-1, 1)\n",
    "    verts = [[proj[0], proj[1], proj[2], proj[3]], [proj[4], proj[5], proj[6], proj[7]], [\n",
    "        proj[0], proj[1], proj[5], proj[4]], [proj[3], proj[2], proj[6], proj[7]]]\n",
    "\n",
    "    verts_ = [[proj_[0], proj_[1], proj_[2], proj_[3]], [proj_[4], proj_[5], proj_[6], proj_[7]], [\n",
    "        proj_[0], proj_[1], proj_[5], proj_[4]], [proj_[3], proj_[2], proj_[6], proj_[7]]]\n",
    "    #[X[1],X[2],X[6],X[5]], [X[1],X[2],X[5],X[7]]]\n",
    "\n",
    "    # plot sides\n",
    "    ax.add_collection3d(Poly3DCollection(\n",
    "        verts, facecolors='w', linewidths=1, edgecolors='b', alpha=.25))\n",
    "    \n",
    "    ax.add_collection3d(Poly3DCollection(\n",
    "        verts_, facecolors='w', linewidths=1, edgecolors='r', alpha=.25))\n",
    "    ax.set_title(title)\n",
    "    ax.legend()\n",
    "    # ax.legend(verts, 'Ground Truth')\n",
    "    # ax.legend(verts_, 'Estimation')\n",
    "    ax.view_init(90, 90)\n",
    "\n",
    "\n",
    "plotReProj(X[:, :2], X_[:, :2], 'True(blue) vs Estimated(red) image coordinates')\n",
    "\n",
    "# def plotProj(proj, title='2D proj'):\n",
    "#     proj = np.hstack((proj, np.zeros((proj.shape[0], 1))))\n",
    "#     print(proj.shape)\n",
    "\n",
    "#     x_max = np.amax(proj[:, 0])\n",
    "#     x_min = np.amin(proj[:, 0])\n",
    "\n",
    "#     y_max = np.amax(proj[:, 1])\n",
    "#     y_min = np.amin(proj[:, 1])\n",
    "\n",
    "#     fig = plt.figure()\n",
    "#     ax = fig.add_subplot(111, projection='3d')\n",
    "\n",
    "#     ax.scatter3D(proj[:, 0], proj[:, 1], proj[:, 2])\n",
    "#     ax.set_xlabel('X')\n",
    "#     ax.set_ylabel('Y')\n",
    "#     ax.set_zlabel('Z')\n",
    "\n",
    "#     padding = 25\n",
    "#     # ax.set_xlim(400, 800)\n",
    "#     # ax.set_xlim(200, 500)\n",
    "#     ax.set_xlim(x_min-padding, x_max+padding)\n",
    "#     ax.set_ylim(y_min-padding, y_max+padding)\n",
    "#     # ax.set_xlim(-1, 1)\n",
    "#     # ax.set_ylim(-1, 1)\n",
    "#     verts = [[proj[0], proj[1], proj[2], proj[3]], [proj[4], proj[5], proj[6], proj[7]], [\n",
    "#         proj[0], proj[1], proj[5], proj[4]], [proj[3], proj[2], proj[6], proj[7]]]\n",
    "#     #[X[1],X[2],X[6],X[5]], [X[1],X[2],X[5],X[7]]]\n",
    "\n",
    "#     # plot sides\n",
    "#     ax.add_collection3d(Poly3DCollection(\n",
    "#         verts, facecolors='w', linewidths=1, edgecolors='k', alpha=.25))\n",
    "#     ax.set_title(title)\n",
    "#     ax.view_init(90, 90)\n",
    "\n",
    "\n"
   ]
  }
 ],
 "metadata": {
  "interpreter": {
   "hash": "31f2aee4e71d21fbe5cf8b01ff0e069b9275f58929596ceb00d14d90e3e16cd6"
  },
  "kernelspec": {
   "display_name": "Python 3.8.10 64-bit",
   "name": "python3"
  },
  "language_info": {
   "codemirror_mode": {
    "name": "ipython",
    "version": 3
   },
   "file_extension": ".py",
   "mimetype": "text/x-python",
   "name": "python",
   "nbconvert_exporter": "python",
   "pygments_lexer": "ipython3",
   "version": "3.8.10"
  },
  "orig_nbformat": 4
 },
 "nbformat": 4,
 "nbformat_minor": 2
}

{
 "cells": [
  {
   "cell_type": "code",
   "execution_count": null,
   "source": [],
   "outputs": [],
   "metadata": {}
  },
  {
   "cell_type": "code",
   "execution_count": null,
   "source": [],
   "outputs": [],
   "metadata": {}
  },
  {
   "cell_type": "code",
   "execution_count": 1,
   "source": [
    "import numpy as np\n",
    "import os\n",
    "import matplotlib.pyplot as plt\n",
    "from mpl_toolkits.mplot3d import Axes3D\n",
    "from mpl_toolkits.mplot3d.art3d import Poly3DCollection\n",
    "import copy\n",
    "# PATH = os.gcwd()\n"
   ],
   "outputs": [],
   "metadata": {}
  },
  {
   "cell_type": "markdown",
   "source": [
    "# Q1"
   ],
   "metadata": {}
  },
  {
   "cell_type": "code",
   "execution_count": 2,
   "source": [
    "def project2D(w,pp,phi,skew):\n",
    "    # Using eq 14.5\n",
    "    x = ((phi[0]*w[0] + w[1]*skew)/w[2])+pp[0]\n",
    "    y = (phi[1]*w[1]/w[2])+pp[1]\n",
    "    return np.array([x, y])\n",
    "\n",
    "w = np.array([-50, 20, 200])\n",
    "princPtn = np.array([256, 256])\n",
    "p = np.array([200,200])\n",
    "# p = np.array([100,100])\n",
    "s = 0\n",
    "\n",
    "X = project2D(w, princPtn, p, s)\n",
    "\n",
    "print(f'Coordinates of 2D proj : {X}')\n"
   ],
   "outputs": [
    {
     "output_type": "stream",
     "name": "stdout",
     "text": [
      "Coordinates of 2D proj : [206. 276.]\n"
     ]
    }
   ],
   "metadata": {}
  },
  {
   "cell_type": "markdown",
   "source": [
    "# Q2"
   ],
   "metadata": {}
  },
  {
   "cell_type": "code",
   "execution_count": 3,
   "source": [
    "C = np.array([[0,0,200],[50,0,200],[50,50,200],[0,50,200],[0,0,250],[50,0,250],[50,50,250],[0,50,250]])\n",
    "# C = C + 25\n",
    "# print(C)\n",
    "X = np.zeros((C.shape[0], C.shape[1]-1))\n",
    "# X.shape\n",
    "\n",
    "i = 0\n",
    "\n",
    "for w in C:\n",
    "    # x = ((phi[0]*w[0] + w[1]*skew)/w[2])+pp[0]\n",
    "    # y = (phi[1]*w[1]/w[2])+pp[1]\n",
    "    # X[i] = np.array([x, y])\n",
    "    X[i] = project2D(w, princPtn, p, s)\n",
    "    i+=1\n",
    "\n",
    "X\n"
   ],
   "outputs": [
    {
     "output_type": "execute_result",
     "data": {
      "text/plain": [
       "array([[256., 256.],\n",
       "       [306., 256.],\n",
       "       [306., 306.],\n",
       "       [256., 306.],\n",
       "       [256., 256.],\n",
       "       [296., 256.],\n",
       "       [296., 296.],\n",
       "       [256., 296.]])"
      ]
     },
     "metadata": {},
     "execution_count": 3
    }
   ],
   "metadata": {}
  },
  {
   "cell_type": "markdown",
   "source": [
    "## 2D projection:\n",
    "\n",
    " <img src=\"imgs/2d_proj.png\" width=400 height=400 />"
   ],
   "metadata": {}
  },
  {
   "cell_type": "code",
   "execution_count": 8,
   "source": [
    "def plotProj(proj):\n",
    "    proj = np.hstack((X, np.zeros((X.shape[0], 1))))\n",
    "    print(proj.shape)\n",
    "    fig = plt.figure()\n",
    "    ax = fig.add_subplot(111, projection='3d')\n",
    "\n",
    "    ax.scatter3D(proj[:, 0], proj[:, 1], proj[:, 2])\n",
    "    ax.set_xlabel('X')\n",
    "    ax.set_ylabel('Y')\n",
    "    ax.set_zlabel('Z')\n",
    "\n",
    "    # ax.set_xlim(400, 800)\n",
    "    ax.set_xlim(200,500)\n",
    "    ax.set_ylim(200,500)\n",
    "    verts = [[proj[0], proj[1], proj[2], proj[3]], [proj[4], proj[5], proj[6], proj[7]], [\n",
    "        proj[0], proj[1], proj[5], proj[4]], [proj[3], proj[2], proj[6], proj[7]]]\n",
    "    #[X[1],X[2],X[6],X[5]], [X[1],X[2],X[5],X[7]]]\n",
    "\n",
    "    # plot sides\n",
    "    ax.add_collection3d(Poly3DCollection(verts, facecolors='w',\n",
    "                                         linewidths=1, edgecolors='k', alpha=.25))\n",
    "    ax.view_init(90, 90)\n"
   ],
   "outputs": [],
   "metadata": {}
  },
  {
   "cell_type": "markdown",
   "source": [
    "# Q3"
   ],
   "metadata": {}
  },
  {
   "cell_type": "code",
   "execution_count": 9,
   "source": [
    "t = np.radians(35)\n",
    "d = np.array([200,0,0])\n",
    "# dx = 0\n",
    "# dy = 0\n",
    "# dz = 0\n",
    "def sin(x): return np.sin(x)\n",
    "def cos(x): return np.cos(x)\n",
    "\n",
    "# Using homogeneous coordinates\n",
    "\n",
    "\n",
    "def homogeneous2DProj(w, princPtn, p, s, d, t):\n",
    "    A = np.array([[p[0], s, princPtn[0], 0], [0, p[1], princPtn[1], 0], [0, 0, 1, 0]])\n",
    "    O = np.array([[cos(t), 0, -sin(t)], [0, 1, 0], [sin(t), 0, cos(t)], [0, 0, 0]])\n",
    "    T = np.array([[d[0]], [d[1]], [d[2]], [1]])\n",
    "    motionMat = np.hstack((O, T))\n",
    "    X_ = A @ motionMat @ w\n",
    "    X = X_/X_[2]\n",
    "    return X[:2].reshape((2))\n",
    "\n",
    "def project2DwTransform(w, princPtn, p, s, d, t):\n",
    "    w11 = cos(t)\n",
    "    w12 = 0\n",
    "    w13 = -sin(t)\n",
    "    w21 = 0\n",
    "    w22 = 1\n",
    "    w23 = 0\n",
    "    w31 = sin(t)\n",
    "    w32 = 0\n",
    "    w33 = cos(t)\n",
    "\n",
    "    u = w[0]\n",
    "    v = w[1]\n",
    "    w = w[2]\n",
    "\n",
    "    x = (p[0]*(w11*u + w12*v + w13*w + d[0]) + s*(w21*u + w22*v + w23*w + d[2]))/(w31*u + w32*v + w33*w + d[2]) + princPtn[0]\n",
    "    y = (p[1]*(w21*u + w22*v + w23*w + d[1])/(w31*u + w32*v + w33*w + d[2])) + princPtn[1]\n",
    "\n",
    "    return np.array([x, y])\n",
    "\n",
    "# def sin(x):\n",
    "#     return np.sin(x)\n",
    "# def cos(x):\n",
    "#     return np.cos(x)\n",
    "# motionMat = np.hstack((O, T))\n",
    "# print(motionMat.shape)\n",
    "# w = np.vstack((np.reshape(C[7], (3,1)), [1]))\n",
    "# print(w.shape)\n",
    "\n",
    "\n",
    "# X_ = A @ motionMat @ w\n",
    "# X_/X_[2]\n",
    "# homogeneous2DProj(w, princPtn, p, s, d, t)\n",
    "print('------------\\n Using eq Homegenous coordinates')\n",
    "i = 0\n",
    "X = np.zeros((C.shape[0], C.shape[1]-1))\n",
    "for w in C:\n",
    "    w_ = np.vstack((np.reshape(w, (3, 1)), [1]))\n",
    "    X[i] = homogeneous2DProj(w_, princPtn, p, s, d, t)\n",
    "    i += 1\n",
    "\n",
    "print(X)\n",
    "print('------------\\n Using eq 14.8')\n",
    "\n",
    "i = 0\n",
    "for w in C:\n",
    "    # w = np.vstack((np.reshape(w, (3, 1)), [1]))\n",
    "    X[i] = project2DwTransform(w, princPtn, p, s, d, t)\n",
    "    i += 1\n",
    "\n",
    "print(X.shape)\n",
    "\n",
    "plotProj(X)\n",
    "\n"
   ],
   "outputs": [
    {
     "output_type": "stream",
     "name": "stdout",
     "text": [
      "------------\n",
      " Using eq Homegenous coordinates\n",
      "[[360.11341011 256.        ]\n",
      " [387.15455763 256.        ]\n",
      " [387.15455763 307.94556108]\n",
      " [360.11341011 317.03872944]\n",
      " [311.28242656 256.        ]\n",
      " [339.57803284 256.        ]\n",
      " [339.57803284 298.83263655]\n",
      " [311.28242656 304.83098355]]\n",
      "------------\n",
      " Using eq 14.8\n",
      "(8, 2)\n",
      "(8, 3)\n"
     ]
    },
    {
     "output_type": "display_data",
     "data": {
      "image/png": "[encoded data removed]",
      "text/plain": [
       "<Figure size 432x288 with 1 Axes>"
      ]
     },
     "metadata": {
      "needs_background": "light"
     }
    }
   ],
   "metadata": {}
  },
  {
   "cell_type": "markdown",
   "source": [
    "# Other questions"
   ],
   "metadata": {}
  },
  {
   "cell_type": "markdown",
   "source": [
    "## Doubling the focal length\n",
    "\n",
    "* Doubling the focal length will have the effect of 2x zoom and halfing it will have the effect of 0.5x zoom "
   ],
   "metadata": {}
  },
  {
   "cell_type": "code",
   "execution_count": 74,
   "source": [
    "i = 0\n",
    "X = np.zeros((C.shape[0], C.shape[1]-1))\n",
    "for w in C:\n",
    "    # w = np.vstack((np.reshape(w, (3, 1)), [1]))\n",
    "    X[i] = project2DwTransform(w, princPtn, 2*p, s, d, t)\n",
    "    i += 1\n",
    "\n",
    "print(X)\n",
    "\n",
    "plotProj(X)\n"
   ],
   "outputs": [
    {
     "output_type": "stream",
     "name": "stdout",
     "text": [
      "[[464.22682022 256.        ]\n",
      " [518.30911526 256.        ]\n",
      " [518.30911526 359.89112215]\n",
      " [464.22682022 378.07745888]\n",
      " [366.56485312 256.        ]\n",
      " [423.15606567 256.        ]\n",
      " [423.15606567 341.6652731 ]\n",
      " [366.56485312 353.6619671 ]]\n"
     ]
    },
    {
     "output_type": "display_data",
     "data": {
      "image/png": "[encoded data removed]",
      "text/plain": [
       "<Figure size 432x288 with 1 Axes>"
      ]
     },
     "metadata": {
      "needs_background": "light"
     }
    }
   ],
   "metadata": {}
  },
  {
   "cell_type": "markdown",
   "source": [
    "## Doubling a single phocal length\n",
    "* doubling phi_x will stretch the image in the x direction and squish it in the y direction."
   ],
   "metadata": {}
  },
  {
   "cell_type": "code",
   "execution_count": 81,
   "source": [
    "i = 0\n",
    "X = np.zeros((C.shape[0], C.shape[1]-1))\n",
    "p_ = copy.copy(p)\n",
    "p_[0]*=2\n",
    "for w in C:\n",
    "    # w = np.vstack((np.reshape(w, (3, 1)), [1]))\n",
    "    X[i] = project2DwTransform(w, princPtn, p_, s, d, t)\n",
    "    i += 1\n",
    "\n",
    "print(X)\n",
    "\n",
    "plotProj(X)\n"
   ],
   "outputs": [
    {
     "output_type": "stream",
     "name": "stdout",
     "text": [
      "[[464.22682022 256.        ]\n",
      " [518.30911526 256.        ]\n",
      " [518.30911526 307.94556108]\n",
      " [464.22682022 317.03872944]\n",
      " [366.56485312 256.        ]\n",
      " [423.15606567 256.        ]\n",
      " [423.15606567 298.83263655]\n",
      " [366.56485312 304.83098355]]\n"
     ]
    },
    {
     "output_type": "display_data",
     "data": {
      "image/png": "[encoded data removed]",
      "text/plain": [
       "<Figure size 432x288 with 1 Axes>"
      ]
     },
     "metadata": {
      "needs_background": "light"
     }
    }
   ],
   "metadata": {}
  },
  {
   "cell_type": "markdown",
   "source": [
    "## Changing coordinates of principal point\n",
    "* Changing the coordinates of the principal point will have the effect of translating the image on the image plane"
   ],
   "metadata": {}
  },
  {
   "cell_type": "code",
   "execution_count": 77,
   "source": [
    "i = 0\n",
    "X = np.zeros((C.shape[0], C.shape[1]-1))\n",
    "pptn = princPtn\n",
    "pptn[0]=320\n",
    "# princPtn[0] = 320\n",
    "for w in C:\n",
    "    # w = np.vstack((np.reshape(w, (3, 1)), [1]))\n",
    "    X[i] = project2DwTransform(w, pptn, p, s, d, t)\n",
    "    i += 1\n",
    "\n",
    "print(X)\n",
    "\n",
    "plotProj(X)\n"
   ],
   "outputs": [
    {
     "output_type": "stream",
     "name": "stdout",
     "text": [
      "[[424.11341011 256.        ]\n",
      " [451.15455763 256.        ]\n",
      " [451.15455763 307.94556108]\n",
      " [424.11341011 317.03872944]\n",
      " [375.28242656 256.        ]\n",
      " [403.57803284 256.        ]\n",
      " [403.57803284 298.83263655]\n",
      " [375.28242656 304.83098355]]\n"
     ]
    },
    {
     "output_type": "display_data",
     "data": {
      "image/png": "[encoded data removed]",
      "text/plain": [
       "<Figure size 432x288 with 1 Axes>"
      ]
     },
     "metadata": {
      "needs_background": "light"
     }
    }
   ],
   "metadata": {}
  },
  {
   "cell_type": "markdown",
   "source": [
    "## Increasing Skew factor\n",
    "\n",
    "* Increasing the Skew factor will have the effect of distorting/skewing the image"
   ],
   "metadata": {}
  },
  {
   "cell_type": "code",
   "execution_count": 87,
   "source": [
    "i = 0\n",
    "X = np.zeros((C.shape[0], C.shape[1]-1))\n",
    "# princPtn[0] = 320\n",
    "for w in C:\n",
    "    # w = np.vstack((np.reshape(w, (3, 1)), [1]))\n",
    "    X[i] = project2DwTransform(w, princPtn, p, 20, d, t)\n",
    "    i += 1\n",
    "\n",
    "print(X)\n",
    "\n",
    "plotProj(X)\n"
   ],
   "outputs": [
    {
     "output_type": "stream",
     "name": "stdout",
     "text": [
      "[[360.11341011 256.        ]\n",
      " [387.15455763 256.        ]\n",
      " [392.34911374 307.94556108]\n",
      " [366.21728305 317.03872944]\n",
      " [311.28242656 256.        ]\n",
      " [339.57803284 256.        ]\n",
      " [343.86129649 298.83263655]\n",
      " [316.16552491 304.83098355]]\n"
     ]
    },
    {
     "output_type": "display_data",
     "data": {
      "image/png": "[encoded data removed]",
      "text/plain": [
       "<Figure size 432x288 with 1 Axes>"
      ]
     },
     "metadata": {
      "needs_background": "light"
     }
    }
   ],
   "metadata": {}
  },
  {
   "cell_type": "markdown",
   "source": [
    "## Changing rotation angle of camera\n",
    "* Changing the rotation angle of the camera, changes the 2D projection, showing a new percepective"
   ],
   "metadata": {}
  },
  {
   "cell_type": "code",
   "execution_count": 88,
   "source": [
    "i = 0\n",
    "X = np.zeros((C.shape[0], C.shape[1]-1))\n",
    "# pp = princPtn\n",
    "# pp[0] = 320\n",
    "# princPtn[0] = 320\n",
    "for w in C:\n",
    "    # w = np.vstack((np.reshape(w, (3, 1)), [1]))\n",
    "    X[i] = project2DwTransform(w, princPtn, p, s, d, np.radians(65))\n",
    "    i += 1\n",
    "\n",
    "print(X)\n",
    "\n",
    "plotProj(X)\n"
   ],
   "outputs": [
    {
     "output_type": "stream",
     "name": "stdout",
     "text": [
      "[[300.33893253 256.        ]\n",
      " [317.41350885 256.        ]\n",
      " [317.41350885 333.01843659]\n",
      " [300.33893253 374.31007916]\n",
      " [205.6908692  256.        ]\n",
      " [248.78527482 256.        ]\n",
      " [248.78527482 322.23834533]\n",
      " [205.6908692  350.64806333]]\n"
     ]
    },
    {
     "output_type": "display_data",
     "data": {
      "image/png": "[encoded data removed]",
      "text/plain": [
       "<Figure size 432x288 with 1 Axes>"
      ]
     },
     "metadata": {
      "needs_background": "light"
     }
    }
   ],
   "metadata": {}
  }
 ],
 "metadata": {
  "orig_nbformat": 4,
  "language_info": {
   "name": "python",
   "version": "3.8.10",
   "mimetype": "text/x-python",
   "codemirror_mode": {
    "name": "ipython",
    "version": 3
   },
   "pygments_lexer": "ipython3",
   "nbconvert_exporter": "python",
   "file_extension": ".py"
  },
  "kernelspec": {
   "name": "python3",
   "display_name": "Python 3.8.10 64-bit"
  },
  "interpreter": {
   "hash": "31f2aee4e71d21fbe5cf8b01ff0e069b9275f58929596ceb00d14d90e3e16cd6"
  }
 },
 "nbformat": 4,
 "nbformat_minor": 2
}